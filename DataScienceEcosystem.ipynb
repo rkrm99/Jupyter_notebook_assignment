{
 "cells": [
  {
   "cell_type": "markdown",
   "id": "2e431fbb-4d8e-40bf-bb24-99cfd4aff753",
   "metadata": {},
   "source": [
    "# Data Science Tools and Ecosystem"
   ]
  },
  {
   "cell_type": "markdown",
   "id": "35454759-1ee3-4896-87cd-b7a696cf565e",
   "metadata": {},
   "source": [
    "In this notebook, Data Science Tools and Ecosystem are summarized."
   ]
  },
  {
   "cell_type": "markdown",
   "id": "c095967b-3815-4019-891e-6a83153d0aa6",
   "metadata": {},
   "source": [
    "**Objectives:**\n",
    "* List popular languages used by Data Scienctists\n",
    "* List commonly used libraries by Data Scientists \n",
    "* List commonly used IDE tools by Data Scientists \n",
    "* Examples of Arithmetic expressions\n"
   ]
  },
  {
   "cell_type": "markdown",
   "id": "5e7f52f9-b30b-43e2-b919-e680e7c584f5",
   "metadata": {},
   "source": [
    "Some of the popular languages that Data Scientists use are:\n",
    "1. Python\n",
    "2. Java\n",
    "3. C++\n",
    "4. Scala\n",
    "5. R"
   ]
  },
  {
   "cell_type": "markdown",
   "id": "2408a1f5-410d-4de9-b23e-1ff212ae65f2",
   "metadata": {},
   "source": [
    "Some of the commonly used libraries used by Data Scientists include:\n",
    "1. Numpy\n",
    "2. Pandas\n",
    "3. Matplotlib\n",
    "4. Seaborn"
   ]
  },
  {
   "cell_type": "markdown",
   "id": "2f54637a-dd20-442c-9337-132d2386ffa9",
   "metadata": {},
   "source": [
    "| Country Name |\n",
    "| -------------|\n",
    "| Jupyter Notebooks |\n",
    "| R Studio |\n",
    "| Jupyterlab |\n",
    "| Visual Studio |"
   ]
  },
  {
   "cell_type": "markdown",
   "id": "72205f84-a360-4faf-98d9-d1d6c32f8fc0",
   "metadata": {},
   "source": [
    "### Below are a few examples of evaluating arithmetic expressions in Python"
   ]
  },
  {
   "cell_type": "code",
   "execution_count": 4,
   "id": "9c3ccc2e-9b63-40da-a472-51e0595a92a2",
   "metadata": {},
   "outputs": [
    {
     "data": {
      "text/plain": [
       "17"
      ]
     },
     "execution_count": 4,
     "metadata": {},
     "output_type": "execute_result"
    }
   ],
   "source": [
    "## This a simple arithmetic expression to mutiply then add integers\n",
    "(3*4) + 5"
   ]
  },
  {
   "cell_type": "code",
   "execution_count": 5,
   "id": "4e789d7d-108c-4538-bf4f-a9a8eefff7dc",
   "metadata": {},
   "outputs": [
    {
     "data": {
      "text/plain": [
       "3.3333333333333335"
      ]
     },
     "execution_count": 5,
     "metadata": {},
     "output_type": "execute_result"
    }
   ],
   "source": [
    "## This will convert 200 minutes to hours by diving by 60\n",
    "200/60"
   ]
  },
  {
   "cell_type": "markdown",
   "id": "e5d03217-a36c-4714-8d6a-12e689ecc5c4",
   "metadata": {},
   "source": [
    "## Author\n",
    "Kalyan Ram Murthy Rama Raju"
   ]
  },
  {
   "cell_type": "code",
   "execution_count": null,
   "id": "139ac52b-4efb-4db2-ae5a-989ac83fb7fb",
   "metadata": {},
   "outputs": [],
   "source": []
  }
 ],
 "metadata": {
  "kernelspec": {
   "display_name": "Python 3 (ipykernel)",
   "language": "python",
   "name": "python3"
  },
  "language_info": {
   "codemirror_mode": {
    "name": "ipython",
    "version": 3
   },
   "file_extension": ".py",
   "mimetype": "text/x-python",
   "name": "python",
   "nbconvert_exporter": "python",
   "pygments_lexer": "ipython3",
   "version": "3.12.1"
  }
 },
 "nbformat": 4,
 "nbformat_minor": 5
}
